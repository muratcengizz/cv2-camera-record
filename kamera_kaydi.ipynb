{
 "cells": [
  {
   "cell_type": "code",
   "execution_count": 7,
   "id": "1f0fb9a4-9f85-4c43-ab58-409f0967b71e",
   "metadata": {},
   "outputs": [
    {
     "name": "stdout",
     "output_type": "stream",
     "text": [
      "640 480\n"
     ]
    }
   ],
   "source": [
    "import cv2\n",
    "\n",
    "cap = cv2.VideoCapture(0)\n",
    "\n",
    "width = int(cap.get(cv2.CAP_PROP_FRAME_WIDTH))\n",
    "height = int(cap.get(cv2.CAP_PROP_FRAME_HEIGHT))\n",
    "print(width, height)\n",
    "\n",
    "# video kaydı\n",
    "writer = cv2.VideoWriter(filename='video_kaydi.mp4', \n",
    "                         fourcc=cv2.VideoWriter_fourcc(*\"DIVX\"), \n",
    "                         fps=20, \n",
    "                         frameSize=(width, height))\n",
    "\n",
    "while True:\n",
    "    ret, frame = cap.read()\n",
    "    cv2.imshow(winname='Video', mat=frame)\n",
    "    \n",
    "    # save\n",
    "    writer.write(frame)\n",
    "    \n",
    "    if cv2.waitKey(1) & 0xFF == ord('q'): break\n",
    "\n",
    "cap.release()\n",
    "writer.release()\n",
    "cv2.destroyAllWindows()"
   ]
  },
  {
   "cell_type": "markdown",
   "id": "a3795633-c4e5-4af2-9703-66d084126b41",
   "metadata": {},
   "source": [
    "## cv2.VideoWriter(filename, fourcc, fps, frameSize, isColor)\n",
    "### filename: Oluşturulacak video dosyasının adı veya yolu\n",
    "### fourcc = Video codec'i için dört karakterli kod. Örneğin MP4V için 'mp4v', XVID için 'XVID' vb.\n",
    "### fps: Video dosyasının kare hızı (çerçeve/saniye cinsinden).\n",
    "### frameSize: Video dosyasının çerçeve boyutu. Bir tuple olarak verilir. (width, height)\n",
    "### isColor (İsteğe Bağlı): True veya False değeri. Eğer 'True' ise, görüntüler renkli olarak kaydedilir. Eğer 'False' ise, görüntüler siyah-beyaz olarak kaydedilir."
   ]
  },
  {
   "cell_type": "markdown",
   "id": "ec8c1df1-c60d-48bf-ba59-64a2c0146968",
   "metadata": {},
   "source": [
    "## cv2.VideoWriter().isOpened()\n",
    "### Bu özellik, video dosyasının başarıyla açılıp açılmadığını kontrol etmek için kullanılır. \n",
    "\n",
    "## cv2.VideoWriter().write(frame)\n",
    "### Bu metot, bir kareyi video dosyasına yazmak için kullanılır. 'frame' parametresi, yazılacak olan görüntü karesidir. "
   ]
  }
 ],
 "metadata": {
  "kernelspec": {
   "display_name": "Python 3 (ipykernel)",
   "language": "python",
   "name": "python3"
  },
  "language_info": {
   "codemirror_mode": {
    "name": "ipython",
    "version": 3
   },
   "file_extension": ".py",
   "mimetype": "text/x-python",
   "name": "python",
   "nbconvert_exporter": "python",
   "pygments_lexer": "ipython3",
   "version": "3.9.12"
  }
 },
 "nbformat": 4,
 "nbformat_minor": 5
}
